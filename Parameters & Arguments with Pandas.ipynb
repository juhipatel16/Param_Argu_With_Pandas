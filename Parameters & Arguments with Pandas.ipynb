{
 "cells": [
  {
   "cell_type": "code",
   "execution_count": 8,
   "id": "72a34c0a",
   "metadata": {},
   "outputs": [
    {
     "data": {
      "text/plain": [
       "Mon           Apple\n",
       "Tue          Banana\n",
       "Wed          Orange\n",
       "Thurs        Grapes\n",
       "Fri      Watermelon\n",
       "dtype: object"
      ]
     },
     "execution_count": 8,
     "metadata": {},
     "output_type": "execute_result"
    }
   ],
   "source": [
    "# Parameter - The name we give to an expected input\n",
    "# Argument - The concrete value that we provide to a parameter \n",
    "# Difficulty - Easy, Medium, Hard\n",
    "# Volume - 1 through 10\n",
    "# Subtitles - True, False\n",
    "\n",
    "import pandas as pd\n",
    "\n",
    "fruits = [\"Apple\", \"Banana\", \"Orange\", \"Grapes\", \"Watermelon\"]\n",
    "weekdays = [\"Mon\", \"Tue\", \"Wed\", \"Thurs\", \"Fri\"]\n",
    "\n",
    "pd.Series(fruits, weekdays)"
   ]
  },
  {
   "cell_type": "code",
   "execution_count": 7,
   "id": "d8ff60bd",
   "metadata": {},
   "outputs": [
    {
     "data": {
      "text/plain": [
       "Apple           Mon\n",
       "Banana          Tue\n",
       "Orange          Wed\n",
       "Grapes        Thurs\n",
       "Watermelon      Fri\n",
       "dtype: object"
      ]
     },
     "execution_count": 7,
     "metadata": {},
     "output_type": "execute_result"
    }
   ],
   "source": [
    "pd.Series(weekdays, fruits)"
   ]
  },
  {
   "cell_type": "code",
   "execution_count": 9,
   "id": "9300720c",
   "metadata": {},
   "outputs": [
    {
     "data": {
      "text/plain": [
       "Mon           Apple\n",
       "Tue          Banana\n",
       "Wed          Orange\n",
       "Thurs        Grapes\n",
       "Fri      Watermelon\n",
       "dtype: object"
      ]
     },
     "execution_count": 9,
     "metadata": {},
     "output_type": "execute_result"
    }
   ],
   "source": [
    "pd.Series(data = fruits, index = weekdays)"
   ]
  },
  {
   "cell_type": "code",
   "execution_count": null,
   "id": "3c9cd463",
   "metadata": {},
   "outputs": [],
   "source": []
  }
 ],
 "metadata": {
  "kernelspec": {
   "display_name": "Python 3 (ipykernel)",
   "language": "python",
   "name": "python3"
  },
  "language_info": {
   "codemirror_mode": {
    "name": "ipython",
    "version": 3
   },
   "file_extension": ".py",
   "mimetype": "text/x-python",
   "name": "python",
   "nbconvert_exporter": "python",
   "pygments_lexer": "ipython3",
   "version": "3.9.7"
  }
 },
 "nbformat": 4,
 "nbformat_minor": 5
}
